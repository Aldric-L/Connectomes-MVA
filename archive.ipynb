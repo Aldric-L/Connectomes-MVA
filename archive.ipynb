{
 "cells": [
  {
   "cell_type": "code",
   "execution_count": null,
   "metadata": {
    "vscode": {
     "languageId": "plaintext"
    }
   },
   "outputs": [],
   "source": [
    "def plot_1d_time_series(vector, title=\"1D Time Series\", xlabel=\"Index\", ylabel=\"Value\"):\n",
    "    \"\"\"\n",
    "    Plots a 1D vector as a time series.\n",
    "\n",
    "    Args:\n",
    "        vector: A list or numpy array representing the 1D time series.\n",
    "        title: The title of the plot.\n",
    "        xlabel: The label for the x-axis.\n",
    "        ylabel: The label for the y-axis.\n",
    "    \"\"\"\n",
    "\n",
    "    if not isinstance(vector, (list, np.ndarray)):\n",
    "        raise TypeError(\"Input 'vector' must be a list or numpy array.\")\n",
    "\n",
    "    if isinstance(vector, list):\n",
    "        vector = np.array(vector)  # Convert list to numpy array for easier handling\n",
    "\n",
    "    plt.figure(figsize=(10, 5))  # Adjust figure size as needed\n",
    "    plt.plot(vector)\n",
    "    plt.title(title)\n",
    "    plt.xlabel(xlabel)\n",
    "    plt.ylabel(ylabel)\n",
    "    plt.grid(True)  # Add gridlines for better readability\n",
    "    plt.show()"
   ]
  },
  {
   "cell_type": "code",
   "execution_count": null,
   "metadata": {
    "vscode": {
     "languageId": "plaintext"
    }
   },
   "outputs": [],
   "source": [
    "plot_1d_time_series(patients_data[patients_list[0]].loc[\"mean_SUV\"].to_numpy() / max(patients_data[patients_list[0]].loc[\"mean_SUV\"].to_numpy()))\n",
    "plot_1d_time_series(patients_data[patients_list[10]].loc[\"mean_SUV\"].to_numpy() / max(patients_data[patients_list[10]].loc[\"mean_SUV\"].to_numpy()))\n",
    "plot_1d_time_series(controls_data[controls_list[10]].loc[\"mean_SUV\"].to_numpy() / max(controls_data[controls_list[10]].loc[\"mean_SUV\"].to_numpy()))"
   ]
  },
  {
   "cell_type": "code",
   "execution_count": null,
   "metadata": {
    "vscode": {
     "languageId": "plaintext"
    }
   },
   "outputs": [],
   "source": [
    "from sklearn.neighbors import KernelDensity\n",
    "from scipy.integrate import quad, dblquad\n",
    "\n",
    "def kde_entropy(kde, dims=1, bounds=(-np.inf, np.inf)):\n",
    "    \"\"\"\n",
    "    Compute entropy H(X) from a kernel density estimate.\n",
    "    \n",
    "    Parameters:\n",
    "    - kde: A trained KernelDensity object.\n",
    "    - dims: Number of dimensions (1D or 2D).\n",
    "    - bounds: Integration bounds.\n",
    "    \n",
    "    Returns:\n",
    "    - Entropy value.\n",
    "    \"\"\"\n",
    "    def integrand_1d(x):\n",
    "        x = np.atleast_1d(x).reshape(-1, 1)  # Ensure x is 1D\n",
    "        p_x = np.exp(kde.score_samples(x))[0]\n",
    "        return -p_x * np.log2(p_x) if p_x > 0 else 0\n",
    "\n",
    "    def integrand_2d(x, y):\n",
    "        xy = np.array([[x, y]])  # Ensure proper shape\n",
    "        p_xy = np.exp(kde.score_samples(xy))[0]\n",
    "        return -p_xy * np.log2(p_xy) if p_xy > 0 else 0\n",
    "\n",
    "    if dims == 1:\n",
    "        result, _ = quad(integrand_1d, *bounds)\n",
    "    else:\n",
    "        result, _ = dblquad(integrand_2d, *bounds, lambda x: bounds[0], lambda x: bounds[1])\n",
    "    \n",
    "    return result\n",
    "\n",
    "def kde_mutual_information(X, Y, bandwidth=0.1):\n",
    "    \"\"\"\n",
    "    Compute mutual information between two continuous variables using KDE.\n",
    "    \n",
    "    Parameters:\n",
    "    - X, Y: 1D numpy arrays (should be same length or interpolated).\n",
    "    - bandwidth: KDE bandwidth for smoothing.\n",
    "    \n",
    "    Returns:\n",
    "    - Estimated mutual information value.\n",
    "    \"\"\"\n",
    "    # Train KDE models for each variable\n",
    "    kde_X = KernelDensity(kernel='gaussian', bandwidth=bandwidth).fit(X.reshape(-1, 1))\n",
    "    kde_Y = KernelDensity(kernel='gaussian', bandwidth=bandwidth).fit(Y.reshape(-1, 1))\n",
    "    \n",
    "    # Compute entropy for each variable\n",
    "    H_X = kde_entropy(kde_X, dims=1)\n",
    "    H_Y = kde_entropy(kde_Y, dims=1)\n",
    "    \n",
    "    # Joint KDE\n",
    "    min_len = min(len(X), len(Y))\n",
    "    X_interp = np.interp(np.linspace(0, 1, min_len), np.linspace(0, 1, len(X)), X)\n",
    "    Y_interp = np.interp(np.linspace(0, 1, min_len), np.linspace(0, 1, len(Y)), Y)\n",
    "    XY = np.vstack([X_interp, Y_interp]).T\n",
    "    kde_XY = KernelDensity(kernel='gaussian', bandwidth=bandwidth).fit(XY)\n",
    "    \n",
    "    # Compute joint entropy with 2D integration\n",
    "    H_XY = kde_entropy(kde_XY, dims=2)\n",
    "\n",
    "    # Mutual Information: I(X; Y) = H(X) + H(Y) - H(X, Y)\n",
    "    return H_X + H_Y - H_XY\n",
    "\n",
    "def compute_mi_matrix(organs, bandwidth=0.1):\n",
    "    \"\"\"\n",
    "    Compute the mutual information matrix for organs of different lengths.\n",
    "    \n",
    "    Parameters:\n",
    "    - organs: Dictionary where keys are organ names and values are 1D numpy arrays (can have different lengths).\n",
    "    - bandwidth: KDE bandwidth for smoothing.\n",
    "    \n",
    "    Returns:\n",
    "    - A dictionary representing the mutual information matrix.\n",
    "    \"\"\"\n",
    "    n = len(organs)\n",
    "    mi_matrix = np.zeros((n, n))\n",
    "\n",
    "    for i in range(n):\n",
    "        for j in range(n):\n",
    "            if i == j:\n",
    "                mi_matrix[i, j] = 0  # Self mutual information is not relevant\n",
    "            else:\n",
    "                mi_matrix[i, j] = kde_mutual_information(organs[i], organs[j], bandwidth)\n",
    "    \n",
    "    return mi_matrix\n",
    "\n",
    "organs = patients_data[patients_list[0]].loc[\"SUV\"].to_numpy()\n",
    "organs.shape\n",
    "compute_mi_matrix(organs)\n"
   ]
  }
 ],
 "metadata": {
  "language_info": {
   "name": "python"
  }
 },
 "nbformat": 4,
 "nbformat_minor": 2
}
